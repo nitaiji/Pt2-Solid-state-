{
 "cells": [
  {
   "cell_type": "markdown",
   "id": "5c226efb",
   "metadata": {},
   "source": [
    "## Capton data: to find Chirp correction "
   ]
  },
  {
   "cell_type": "code",
   "execution_count": 9,
   "id": "81b33fa2",
   "metadata": {},
   "outputs": [],
   "source": [
    "#import libraries\n",
    "\n",
    "import numpy as np\n",
    "from skimage import io\n",
    "import mplcursors\n",
    "import scipy.optimize as opt\n",
    "import pandas as pd\n",
    "import matplotlib.pyplot as plt\n",
    "plt.rcParams[\"font.size\"] = 16\n",
    "plt.rcParams['figure.figsize'] = (10, 5)"
   ]
  },
  {
   "cell_type": "code",
   "execution_count": 10,
   "id": "dd01c27c",
   "metadata": {},
   "outputs": [],
   "source": [
    "def TA_2D_contour(data):\n",
    "    \n",
    "    df = pd.read_csv(data)    #Import data\n",
    "    df_time = pd.Series(df.columns) #take out the column name which contains time info\n",
    "    df_lambda = pd.Series(df.iloc[:,0])  #take out wavelength info from the first row\n",
    "    df3 = df.set_index(df.iloc[:, 0])  #Set the first column as index\n",
    "    df3 = df3.iloc[: , 1:]                  #drop the first column\n",
    "    df3.index.names = ['Wavelength']   #rename index column name to wavelength\n",
    "    df4 = df3.fillna(0)  #fill nan values with 0\n",
    "    \n",
    "    # converting string column values to float\n",
    "    df4_columns = pd.Series(df4.columns)\n",
    "    df4_columns_num = df4_columns.apply(pd.to_numeric, errors='coerce')\n",
    "    df4.columns = df4_columns_num\n",
    "    \n",
    "    return df4"
   ]
  },
  {
   "cell_type": "code",
   "execution_count": 15,
   "id": "e1ea43ad",
   "metadata": {},
   "outputs": [],
   "source": [
    "#function for plotting data\n",
    "\n",
    "def Plotting_2D_contour(df,v):\n",
    "    #plotting the data\n",
    "\n",
    "    x1 = df.columns\n",
    "    y1 = df.index\n",
    "    z1 = df\n",
    "    X1,Y1 = np.meshgrid(x1,y1)\n",
    "    Z1 = z1\n",
    "    img = plt.contourf(X1,Y1,Z1,50, cmap='jet', vmin=-v, vmax=v )\n",
    "    plt.colorbar(img)\n",
    "    plt.xlabel('Time(fs)')\n",
    "    plt.ylabel('Wavelength(nm)')\n",
    "    \n",
    "    return "
   ]
  },
  {
   "cell_type": "code",
   "execution_count": 16,
   "id": "1d104d5b",
   "metadata": {},
   "outputs": [],
   "source": [
    "data = \"C:/Users/nita8/OneDrive - University of Toronto/Data from MPSD_CFEL/Nita/Castellano/25Mar21/Sample_marked1/Capton t0 _515 nm.txt\"\n",
    "# C:\\Users\\nita8\\OneDrive - University of Toronto\\Data from MPSD_CFEL\\Nita\\Castellano\\25Mar21\\Sample_marked1\n",
    "# data = 'TA_matrix_31Mar_10ps_10fs.txt'\n",
    "df = TA_2D_contour(data)\n",
    "# df4_test = df4.iloc[1150:1810]"
   ]
  },
  {
   "cell_type": "code",
   "execution_count": 17,
   "id": "9dadaf54",
   "metadata": {},
   "outputs": [
    {
     "data": {
      "text/html": [
       "<div>\n",
       "<style scoped>\n",
       "    .dataframe tbody tr th:only-of-type {\n",
       "        vertical-align: middle;\n",
       "    }\n",
       "\n",
       "    .dataframe tbody tr th {\n",
       "        vertical-align: top;\n",
       "    }\n",
       "\n",
       "    .dataframe thead th {\n",
       "        text-align: right;\n",
       "    }\n",
       "</style>\n",
       "<table border=\"1\" class=\"dataframe\">\n",
       "  <thead>\n",
       "    <tr style=\"text-align: right;\">\n",
       "      <th></th>\n",
       "      <th>902000.0</th>\n",
       "      <th>902050.0</th>\n",
       "      <th>902100.0</th>\n",
       "      <th>902150.0</th>\n",
       "      <th>902200.0</th>\n",
       "      <th>902250.0</th>\n",
       "      <th>902300.0</th>\n",
       "      <th>902350.0</th>\n",
       "      <th>902400.0</th>\n",
       "      <th>902450.0</th>\n",
       "      <th>...</th>\n",
       "      <th>914550.0</th>\n",
       "      <th>914600.0</th>\n",
       "      <th>914650.0</th>\n",
       "      <th>914700.0</th>\n",
       "      <th>914750.0</th>\n",
       "      <th>914800.0</th>\n",
       "      <th>914850.0</th>\n",
       "      <th>914900.0</th>\n",
       "      <th>914950.0</th>\n",
       "      <th>915000.0</th>\n",
       "    </tr>\n",
       "    <tr>\n",
       "      <th>Wavelength</th>\n",
       "      <th></th>\n",
       "      <th></th>\n",
       "      <th></th>\n",
       "      <th></th>\n",
       "      <th></th>\n",
       "      <th></th>\n",
       "      <th></th>\n",
       "      <th></th>\n",
       "      <th></th>\n",
       "      <th></th>\n",
       "      <th></th>\n",
       "      <th></th>\n",
       "      <th></th>\n",
       "      <th></th>\n",
       "      <th></th>\n",
       "      <th></th>\n",
       "      <th></th>\n",
       "      <th></th>\n",
       "      <th></th>\n",
       "      <th></th>\n",
       "      <th></th>\n",
       "    </tr>\n",
       "  </thead>\n",
       "  <tbody>\n",
       "    <tr>\n",
       "      <th>204.014651</th>\n",
       "      <td>0.000000</td>\n",
       "      <td>0.000000</td>\n",
       "      <td>0.000000</td>\n",
       "      <td>0.000000</td>\n",
       "      <td>0.000000</td>\n",
       "      <td>0.000000</td>\n",
       "      <td>0.000000</td>\n",
       "      <td>0.000000</td>\n",
       "      <td>0.000000</td>\n",
       "      <td>0.000000</td>\n",
       "      <td>...</td>\n",
       "      <td>0.000000</td>\n",
       "      <td>0.000000</td>\n",
       "      <td>0.000000</td>\n",
       "      <td>0.000000</td>\n",
       "      <td>0.000000</td>\n",
       "      <td>0.000000</td>\n",
       "      <td>0.000000</td>\n",
       "      <td>0.000000</td>\n",
       "      <td>0.0000</td>\n",
       "      <td>0.000000</td>\n",
       "    </tr>\n",
       "    <tr>\n",
       "      <th>204.326842</th>\n",
       "      <td>0.000000</td>\n",
       "      <td>0.000000</td>\n",
       "      <td>0.000000</td>\n",
       "      <td>0.000000</td>\n",
       "      <td>0.000000</td>\n",
       "      <td>0.000000</td>\n",
       "      <td>0.000000</td>\n",
       "      <td>0.000000</td>\n",
       "      <td>0.000000</td>\n",
       "      <td>0.000000</td>\n",
       "      <td>...</td>\n",
       "      <td>0.000000</td>\n",
       "      <td>0.000000</td>\n",
       "      <td>0.000000</td>\n",
       "      <td>0.000000</td>\n",
       "      <td>0.000000</td>\n",
       "      <td>0.000000</td>\n",
       "      <td>0.000000</td>\n",
       "      <td>0.000000</td>\n",
       "      <td>0.0000</td>\n",
       "      <td>0.000000</td>\n",
       "    </tr>\n",
       "    <tr>\n",
       "      <th>204.638937</th>\n",
       "      <td>0.000000</td>\n",
       "      <td>0.000000</td>\n",
       "      <td>0.000000</td>\n",
       "      <td>0.000000</td>\n",
       "      <td>0.000000</td>\n",
       "      <td>0.000000</td>\n",
       "      <td>0.000000</td>\n",
       "      <td>0.000000</td>\n",
       "      <td>0.000000</td>\n",
       "      <td>0.000000</td>\n",
       "      <td>...</td>\n",
       "      <td>0.000000</td>\n",
       "      <td>0.000000</td>\n",
       "      <td>0.000000</td>\n",
       "      <td>0.000000</td>\n",
       "      <td>0.000000</td>\n",
       "      <td>0.000000</td>\n",
       "      <td>0.000000</td>\n",
       "      <td>0.000000</td>\n",
       "      <td>0.0000</td>\n",
       "      <td>0.000000</td>\n",
       "    </tr>\n",
       "    <tr>\n",
       "      <th>204.950937</th>\n",
       "      <td>0.000000</td>\n",
       "      <td>0.000000</td>\n",
       "      <td>0.000000</td>\n",
       "      <td>0.000000</td>\n",
       "      <td>0.000000</td>\n",
       "      <td>0.000000</td>\n",
       "      <td>0.000000</td>\n",
       "      <td>0.000000</td>\n",
       "      <td>0.000000</td>\n",
       "      <td>0.000000</td>\n",
       "      <td>...</td>\n",
       "      <td>0.000000</td>\n",
       "      <td>0.000000</td>\n",
       "      <td>0.000000</td>\n",
       "      <td>0.000000</td>\n",
       "      <td>0.000000</td>\n",
       "      <td>0.000000</td>\n",
       "      <td>0.000000</td>\n",
       "      <td>0.000000</td>\n",
       "      <td>0.0000</td>\n",
       "      <td>0.000000</td>\n",
       "    </tr>\n",
       "    <tr>\n",
       "      <th>205.262842</th>\n",
       "      <td>0.000000</td>\n",
       "      <td>0.000000</td>\n",
       "      <td>0.000000</td>\n",
       "      <td>0.000000</td>\n",
       "      <td>0.000000</td>\n",
       "      <td>0.000000</td>\n",
       "      <td>0.000000</td>\n",
       "      <td>0.000000</td>\n",
       "      <td>0.000000</td>\n",
       "      <td>0.000000</td>\n",
       "      <td>...</td>\n",
       "      <td>0.000000</td>\n",
       "      <td>0.000000</td>\n",
       "      <td>0.000000</td>\n",
       "      <td>0.000000</td>\n",
       "      <td>0.000000</td>\n",
       "      <td>0.000000</td>\n",
       "      <td>0.000000</td>\n",
       "      <td>0.000000</td>\n",
       "      <td>0.0000</td>\n",
       "      <td>0.000000</td>\n",
       "    </tr>\n",
       "    <tr>\n",
       "      <th>...</th>\n",
       "      <td>...</td>\n",
       "      <td>...</td>\n",
       "      <td>...</td>\n",
       "      <td>...</td>\n",
       "      <td>...</td>\n",
       "      <td>...</td>\n",
       "      <td>...</td>\n",
       "      <td>...</td>\n",
       "      <td>...</td>\n",
       "      <td>...</td>\n",
       "      <td>...</td>\n",
       "      <td>...</td>\n",
       "      <td>...</td>\n",
       "      <td>...</td>\n",
       "      <td>...</td>\n",
       "      <td>...</td>\n",
       "      <td>...</td>\n",
       "      <td>...</td>\n",
       "      <td>...</td>\n",
       "      <td>...</td>\n",
       "      <td>...</td>\n",
       "    </tr>\n",
       "    <tr>\n",
       "      <th>763.495283</th>\n",
       "      <td>-348.208388</td>\n",
       "      <td>-343.950992</td>\n",
       "      <td>-371.040464</td>\n",
       "      <td>-343.977965</td>\n",
       "      <td>-364.294069</td>\n",
       "      <td>-316.370682</td>\n",
       "      <td>-326.419129</td>\n",
       "      <td>-370.572455</td>\n",
       "      <td>-383.054821</td>\n",
       "      <td>-316.604245</td>\n",
       "      <td>...</td>\n",
       "      <td>-336.597901</td>\n",
       "      <td>-420.058508</td>\n",
       "      <td>-367.236396</td>\n",
       "      <td>-372.342992</td>\n",
       "      <td>-389.658328</td>\n",
       "      <td>-309.581438</td>\n",
       "      <td>-316.373474</td>\n",
       "      <td>-332.642225</td>\n",
       "      <td>-299.6815</td>\n",
       "      <td>-352.758314</td>\n",
       "    </tr>\n",
       "    <tr>\n",
       "      <th>763.783026</th>\n",
       "      <td>0.000000</td>\n",
       "      <td>0.000000</td>\n",
       "      <td>0.000000</td>\n",
       "      <td>0.000000</td>\n",
       "      <td>0.000000</td>\n",
       "      <td>0.000000</td>\n",
       "      <td>0.000000</td>\n",
       "      <td>0.000000</td>\n",
       "      <td>0.000000</td>\n",
       "      <td>0.000000</td>\n",
       "      <td>...</td>\n",
       "      <td>0.000000</td>\n",
       "      <td>0.000000</td>\n",
       "      <td>0.000000</td>\n",
       "      <td>0.000000</td>\n",
       "      <td>0.000000</td>\n",
       "      <td>0.000000</td>\n",
       "      <td>0.000000</td>\n",
       "      <td>0.000000</td>\n",
       "      <td>0.0000</td>\n",
       "      <td>0.000000</td>\n",
       "    </tr>\n",
       "    <tr>\n",
       "      <th>764.070841</th>\n",
       "      <td>0.000000</td>\n",
       "      <td>0.000000</td>\n",
       "      <td>0.000000</td>\n",
       "      <td>0.000000</td>\n",
       "      <td>0.000000</td>\n",
       "      <td>0.000000</td>\n",
       "      <td>0.000000</td>\n",
       "      <td>0.000000</td>\n",
       "      <td>0.000000</td>\n",
       "      <td>0.000000</td>\n",
       "      <td>...</td>\n",
       "      <td>0.000000</td>\n",
       "      <td>0.000000</td>\n",
       "      <td>0.000000</td>\n",
       "      <td>0.000000</td>\n",
       "      <td>0.000000</td>\n",
       "      <td>0.000000</td>\n",
       "      <td>0.000000</td>\n",
       "      <td>0.000000</td>\n",
       "      <td>0.0000</td>\n",
       "      <td>0.000000</td>\n",
       "    </tr>\n",
       "    <tr>\n",
       "      <th>764.358727</th>\n",
       "      <td>0.000000</td>\n",
       "      <td>0.000000</td>\n",
       "      <td>0.000000</td>\n",
       "      <td>0.000000</td>\n",
       "      <td>0.000000</td>\n",
       "      <td>0.000000</td>\n",
       "      <td>0.000000</td>\n",
       "      <td>0.000000</td>\n",
       "      <td>0.000000</td>\n",
       "      <td>0.000000</td>\n",
       "      <td>...</td>\n",
       "      <td>0.000000</td>\n",
       "      <td>0.000000</td>\n",
       "      <td>0.000000</td>\n",
       "      <td>0.000000</td>\n",
       "      <td>0.000000</td>\n",
       "      <td>0.000000</td>\n",
       "      <td>0.000000</td>\n",
       "      <td>0.000000</td>\n",
       "      <td>0.0000</td>\n",
       "      <td>0.000000</td>\n",
       "    </tr>\n",
       "    <tr>\n",
       "      <th>764.646686</th>\n",
       "      <td>0.000000</td>\n",
       "      <td>0.000000</td>\n",
       "      <td>0.000000</td>\n",
       "      <td>0.000000</td>\n",
       "      <td>0.000000</td>\n",
       "      <td>0.000000</td>\n",
       "      <td>0.000000</td>\n",
       "      <td>0.000000</td>\n",
       "      <td>0.000000</td>\n",
       "      <td>0.000000</td>\n",
       "      <td>...</td>\n",
       "      <td>0.000000</td>\n",
       "      <td>0.000000</td>\n",
       "      <td>0.000000</td>\n",
       "      <td>0.000000</td>\n",
       "      <td>0.000000</td>\n",
       "      <td>0.000000</td>\n",
       "      <td>0.000000</td>\n",
       "      <td>0.000000</td>\n",
       "      <td>0.0000</td>\n",
       "      <td>0.000000</td>\n",
       "    </tr>\n",
       "  </tbody>\n",
       "</table>\n",
       "<p>2068 rows × 261 columns</p>\n",
       "</div>"
      ],
      "text/plain": [
       "              902000.0    902050.0    902100.0    902150.0    902200.0  \\\n",
       "Wavelength                                                               \n",
       "204.014651    0.000000    0.000000    0.000000    0.000000    0.000000   \n",
       "204.326842    0.000000    0.000000    0.000000    0.000000    0.000000   \n",
       "204.638937    0.000000    0.000000    0.000000    0.000000    0.000000   \n",
       "204.950937    0.000000    0.000000    0.000000    0.000000    0.000000   \n",
       "205.262842    0.000000    0.000000    0.000000    0.000000    0.000000   \n",
       "...                ...         ...         ...         ...         ...   \n",
       "763.495283 -348.208388 -343.950992 -371.040464 -343.977965 -364.294069   \n",
       "763.783026    0.000000    0.000000    0.000000    0.000000    0.000000   \n",
       "764.070841    0.000000    0.000000    0.000000    0.000000    0.000000   \n",
       "764.358727    0.000000    0.000000    0.000000    0.000000    0.000000   \n",
       "764.646686    0.000000    0.000000    0.000000    0.000000    0.000000   \n",
       "\n",
       "              902250.0    902300.0    902350.0    902400.0    902450.0  ...  \\\n",
       "Wavelength                                                              ...   \n",
       "204.014651    0.000000    0.000000    0.000000    0.000000    0.000000  ...   \n",
       "204.326842    0.000000    0.000000    0.000000    0.000000    0.000000  ...   \n",
       "204.638937    0.000000    0.000000    0.000000    0.000000    0.000000  ...   \n",
       "204.950937    0.000000    0.000000    0.000000    0.000000    0.000000  ...   \n",
       "205.262842    0.000000    0.000000    0.000000    0.000000    0.000000  ...   \n",
       "...                ...         ...         ...         ...         ...  ...   \n",
       "763.495283 -316.370682 -326.419129 -370.572455 -383.054821 -316.604245  ...   \n",
       "763.783026    0.000000    0.000000    0.000000    0.000000    0.000000  ...   \n",
       "764.070841    0.000000    0.000000    0.000000    0.000000    0.000000  ...   \n",
       "764.358727    0.000000    0.000000    0.000000    0.000000    0.000000  ...   \n",
       "764.646686    0.000000    0.000000    0.000000    0.000000    0.000000  ...   \n",
       "\n",
       "              914550.0    914600.0    914650.0    914700.0    914750.0  \\\n",
       "Wavelength                                                               \n",
       "204.014651    0.000000    0.000000    0.000000    0.000000    0.000000   \n",
       "204.326842    0.000000    0.000000    0.000000    0.000000    0.000000   \n",
       "204.638937    0.000000    0.000000    0.000000    0.000000    0.000000   \n",
       "204.950937    0.000000    0.000000    0.000000    0.000000    0.000000   \n",
       "205.262842    0.000000    0.000000    0.000000    0.000000    0.000000   \n",
       "...                ...         ...         ...         ...         ...   \n",
       "763.495283 -336.597901 -420.058508 -367.236396 -372.342992 -389.658328   \n",
       "763.783026    0.000000    0.000000    0.000000    0.000000    0.000000   \n",
       "764.070841    0.000000    0.000000    0.000000    0.000000    0.000000   \n",
       "764.358727    0.000000    0.000000    0.000000    0.000000    0.000000   \n",
       "764.646686    0.000000    0.000000    0.000000    0.000000    0.000000   \n",
       "\n",
       "              914800.0    914850.0    914900.0  914950.0    915000.0  \n",
       "Wavelength                                                            \n",
       "204.014651    0.000000    0.000000    0.000000    0.0000    0.000000  \n",
       "204.326842    0.000000    0.000000    0.000000    0.0000    0.000000  \n",
       "204.638937    0.000000    0.000000    0.000000    0.0000    0.000000  \n",
       "204.950937    0.000000    0.000000    0.000000    0.0000    0.000000  \n",
       "205.262842    0.000000    0.000000    0.000000    0.0000    0.000000  \n",
       "...                ...         ...         ...       ...         ...  \n",
       "763.495283 -309.581438 -316.373474 -332.642225 -299.6815 -352.758314  \n",
       "763.783026    0.000000    0.000000    0.000000    0.0000    0.000000  \n",
       "764.070841    0.000000    0.000000    0.000000    0.0000    0.000000  \n",
       "764.358727    0.000000    0.000000    0.000000    0.0000    0.000000  \n",
       "764.646686    0.000000    0.000000    0.000000    0.0000    0.000000  \n",
       "\n",
       "[2068 rows x 261 columns]"
      ]
     },
     "execution_count": 17,
     "metadata": {},
     "output_type": "execute_result"
    }
   ],
   "source": [
    "df"
   ]
  },
  {
   "cell_type": "code",
   "execution_count": 22,
   "id": "7d711976",
   "metadata": {},
   "outputs": [
    {
     "data": {
      "image/png": "[encoded data removed]",
      "text/plain": [
       "<Figure size 720x360 with 2 Axes>"
      ]
     },
     "metadata": {
      "needs_background": "light"
     },
     "output_type": "display_data"
    }
   ],
   "source": [
    "Plotting_2D_contour(df, 100)"
   ]
  },
  {
   "cell_type": "code",
   "execution_count": 30,
   "id": "c80312df",
   "metadata": {},
   "outputs": [
    {
     "data": {
      "image/png": "[encoded data removed]",
      "text/plain": [
       "<Figure size 720x360 with 2 Axes>"
      ]
     },
     "metadata": {
      "needs_background": "light"
     },
     "output_type": "display_data"
    }
   ],
   "source": [
    "df_test = df.iloc[1050:2810]\n",
    "\n",
    "Plotting_2D_contour(df_test, 150)"
   ]
  },
  {
   "cell_type": "code",
   "execution_count": 48,
   "id": "5189ac48",
   "metadata": {},
   "outputs": [
    {
     "data": {
      "text/plain": [
       "((1018, 261), (2068, 261))"
      ]
     },
     "execution_count": 48,
     "metadata": {},
     "output_type": "execute_result"
    }
   ],
   "source": [
    "df_test.shape, df.shape"
   ]
  },
  {
   "cell_type": "code",
   "execution_count": 55,
   "id": "eaa1689e",
   "metadata": {},
   "outputs": [],
   "source": [
    "df_try = df_test.iloc[:, 10:261]"
   ]
  },
  {
   "cell_type": "code",
   "execution_count": 56,
   "id": "e51b34a1",
   "metadata": {},
   "outputs": [
    {
     "data": {
      "text/plain": [
       "(1018, 251)"
      ]
     },
     "execution_count": 56,
     "metadata": {},
     "output_type": "execute_result"
    }
   ],
   "source": [
    "df_try.shape"
   ]
  },
  {
   "cell_type": "code",
   "execution_count": 61,
   "id": "03e227b1",
   "metadata": {},
   "outputs": [
    {
     "data": {
      "image/png": "[encoded data removed]",
      "text/plain": [
       "<Figure size 720x360 with 2 Axes>"
      ]
     },
     "metadata": {
      "needs_background": "light"
     },
     "output_type": "display_data"
    }
   ],
   "source": [
    "Plotting_2D_contour(df_test.iloc[:, 100:150], 100)"
   ]
  },
  {
   "cell_type": "code",
   "execution_count": 77,
   "id": "9a14eda5",
   "metadata": {},
   "outputs": [],
   "source": [
    "df_final = df_test.iloc[:, 100:150]"
   ]
  },
  {
   "cell_type": "markdown",
   "id": "8638993f",
   "metadata": {},
   "source": [
    "# choose rows & columns of a df\n",
    "https://sparkbyexamples.com/pandas/pandas-select-columns-by-name-or-index/"
   ]
  },
  {
   "cell_type": "code",
   "execution_count": 69,
   "id": "aa89afbc",
   "metadata": {},
   "outputs": [
    {
     "data": {
      "text/html": [
       "<div>\n",
       "<style scoped>\n",
       "    .dataframe tbody tr th:only-of-type {\n",
       "        vertical-align: middle;\n",
       "    }\n",
       "\n",
       "    .dataframe tbody tr th {\n",
       "        vertical-align: top;\n",
       "    }\n",
       "\n",
       "    .dataframe thead th {\n",
       "        text-align: right;\n",
       "    }\n",
       "</style>\n",
       "<table border=\"1\" class=\"dataframe\">\n",
       "  <thead>\n",
       "    <tr style=\"text-align: right;\">\n",
       "      <th></th>\n",
       "    </tr>\n",
       "    <tr>\n",
       "      <th>Wavelength</th>\n",
       "    </tr>\n",
       "  </thead>\n",
       "  <tbody>\n",
       "    <tr>\n",
       "      <th>623.523555</th>\n",
       "    </tr>\n",
       "  </tbody>\n",
       "</table>\n",
       "</div>"
      ],
      "text/plain": [
       "Empty DataFrame\n",
       "Columns: []\n",
       "Index: [623.523555]"
      ]
     },
     "execution_count": 69,
     "metadata": {},
     "output_type": "execute_result"
    }
   ],
   "source": [
    "# # Using iloc[] to select column by Index\n",
    "# df2 = df.iloc[:,[1,3,4]] # Select columns by Index\n",
    "# df2 = df.iloc[:,1:4] # Select between indexes 1 and 4 (2,3,4)\n",
    "# df2 = df.iloc[:,2:] # Select From 3rd to end\n",
    "# df2 = df.iloc[:,:2] # Select First Two Columns\n",
    "\n",
    "df_final.iloc[[500], 100:150]"
   ]
  },
  {
   "cell_type": "code",
   "execution_count": 80,
   "id": "ef87218d",
   "metadata": {},
   "outputs": [
    {
     "data": {
      "text/plain": [
       "float"
      ]
     },
     "execution_count": 80,
     "metadata": {},
     "output_type": "execute_result"
    }
   ],
   "source": [
    "type(list(df_final.index)[0])"
   ]
  },
  {
   "cell_type": "code",
   "execution_count": 85,
   "id": "e018a68a",
   "metadata": {},
   "outputs": [
    {
     "data": {
      "text/plain": [
       "[<matplotlib.lines.Line2D at 0x2831e70a1c8>]"
      ]
     },
     "execution_count": 85,
     "metadata": {},
     "output_type": "execute_result"
    },
    {
     "data": {
      "image/png": "[encoded data removed]",
      "text/plain": [
       "<Figure size 720x360 with 1 Axes>"
      ]
     },
     "metadata": {
      "needs_background": "light"
     },
     "output_type": "display_data"
    }
   ],
   "source": [
    "# df_final[[650.107996]]\n",
    "plt.plot(df_final.iloc[df_final.index == 650.107996].iloc[0])"
   ]
  },
  {
   "cell_type": "code",
   "execution_count": null,
   "id": "44daa7d0",
   "metadata": {},
   "outputs": [],
   "source": []
  }
 ],
 "metadata": {
  "kernelspec": {
   "display_name": "Python 3",
   "language": "python",
   "name": "python3"
  },
  "language_info": {
   "codemirror_mode": {
    "name": "ipython",
    "version": 3
   },
   "file_extension": ".py",
   "mimetype": "text/x-python",
   "name": "python",
   "nbconvert_exporter": "python",
   "pygments_lexer": "ipython3",
   "version": "3.7.11"
  }
 },
 "nbformat": 4,
 "nbformat_minor": 5
}
